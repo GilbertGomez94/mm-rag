{
 "cells": [
  {
   "cell_type": "code",
   "execution_count": null,
   "metadata": {},
   "outputs": [],
   "source": [
    "\n",
    "import os\n",
    "import uuid\n",
    "import base64\n",
    "from unstructured.partition.pdf import partition_pdf\n",
    "from langchain.chat_models import ChatOllama\n",
    "from langchain.embeddings import OpenAIEmbeddings\n",
    "from langchain_experimental.open_clip import OpenCLIPEmbeddings\n",
    "\n",
    "from langchain.chains import LLMChain\n",
    "from langchain.prompts import PromptTemplate\n",
    "from langchain.schema.messages import HumanMessage, SystemMessage\n",
    "from langchain.schema.document import Document\n",
    "from langchain.vectorstores import FAISS\n",
    "\n",
    "openai_api_key = \"some\"\n"
   ]
  },
  {
   "cell_type": "code",
   "execution_count": null,
   "metadata": {},
   "outputs": [],
   "source": [
    "BOOK_ROUTE = \"../books/libro-cocina.pdf\"\n",
    "OUTPUT_PATH = \"data_final/\"\n",
    "SAVE_PATH=os.getenv(\"PROJECT_PATH\")\n",
    "#\"/home/gilbert/Documentos/experiments/mm-rag/\""
   ]
  },
  {
   "cell_type": "code",
   "execution_count": null,
   "metadata": {},
   "outputs": [],
   "source": [
    "raw_pdf_elements = partition_pdf(\n",
    "    filename=BOOK_ROUTE,\n",
    "    extract_images_in_pdf=True,\n",
    "    infer_table_structure=True,\n",
    "    chunking_strategy=\"by_title\",\n",
    "    max_characters=4000,\n",
    "    new_after_n_chars=3800,\n",
    "    combine_text_under_n_chars=2000,\n",
    "    image_output_dir_path=os.path.join(SAVE_PATH, OUTPUT_PATH)\n",
    ")"
   ]
  },
  {
   "cell_type": "code",
   "execution_count": null,
   "metadata": {},
   "outputs": [],
   "source": [
    "raw_pdf_elements"
   ]
  },
  {
   "cell_type": "code",
   "execution_count": null,
   "metadata": {},
   "outputs": [],
   "source": [
    "text_elements = []\n",
    "table_elements = []\n",
    "\n",
    "text_summaries = []\n",
    "table_summaries = []\n",
    "\n",
    "summary_prompt = \"\"\"\n",
    "Eres un asistente encargado de resumir tablas y texto para recuperarlos. \\\n",
    "Estos resúmenes se incrustarán y utilizarán para recuperar el texto sin formato o los elementos de la tabla. \\\n",
    "Proporcione un resumen conciso de la tabla o texto que esté bien optimizado para su recuperación.\n",
    "Tipo de texto: {element_type}\n",
    "Texto: {element}:\n",
    "\n",
    "\"\"\"\n",
    "summary_chain = LLMChain(\n",
    "    llm=ChatOllama(model=\"llama3\", max_tokens=1024),\n",
    "    prompt=PromptTemplate.from_template(summary_prompt)\n",
    ")\n",
    "\n",
    "for e in raw_pdf_elements:\n",
    "    if 'CompositeElement' in repr(e):\n",
    "        text_elements.append(e.text)\n",
    "        summary = summary_chain.run({'element_type': 'text', 'element': e})\n",
    "        text_summaries.append(summary)\n",
    "\n",
    "    elif 'Table' in repr(e):\n",
    "        table_elements.append(e.text)\n",
    "        summary = summary_chain.run({'element_type': 'table', 'element': e})\n",
    "        table_summaries.append(summary)"
   ]
  },
  {
   "cell_type": "code",
   "execution_count": null,
   "metadata": {},
   "outputs": [],
   "source": [
    "text_elements"
   ]
  },
  {
   "cell_type": "code",
   "execution_count": null,
   "metadata": {},
   "outputs": [],
   "source": [
    "\n",
    "# Get image summaries\n",
    "image_elements = []\n",
    "image_summaries = []\n",
    "\n",
    "def encode_image(image_path):\n",
    "    with open(image_path, \"rb\") as f:\n",
    "        return base64.b64encode(f.read()).decode('utf-8')\n",
    "\n",
    "def summarize_image(encoded_image):\n",
    "    prompt = [\n",
    "        SystemMessage(content=\"\"\"Eres un asistente encargado de resumir imágenes de recetas de cocina.Ofrezca un resumen conciso de la imagen que esté bien optimizado para su recuperación.\n",
    "    \n",
    "    Si en la imagen no hay nada asociado a un plato de comida, es decir esta relacionado solo a texto, responde con el siguiente texto:\n",
    "    'No es una receta'\"\"\"),\n",
    "        HumanMessage(content=[\n",
    "            {\n",
    "                \"type\": \"image_url\",\n",
    "                \"image_url\": {\n",
    "                    \"url\": f\"data:image/jpeg;base64,{encoded_image}\"\n",
    "                },\n",
    "            },\n",
    "        ])\n",
    "    ]\n",
    "    response = ChatOllama(model=\"llava\", max_tokens=1024).invoke(prompt)\n",
    "    return response.content\n",
    "\n",
    "for i in os.listdir(os.path.join(SAVE_PATH, OUTPUT_PATH)):\n",
    "    if i.endswith(('.png', '.jpg', '.jpeg')):\n",
    "        image_path = os.path.join(os.path.join(SAVE_PATH, OUTPUT_PATH), i)\n",
    "        encoded_image = encode_image(image_path)\n",
    "        image_elements.append(encoded_image)\n",
    "        summary = summarize_image(encoded_image)\n",
    "        image_summaries.append(summary)"
   ]
  },
  {
   "cell_type": "code",
   "execution_count": null,
   "metadata": {},
   "outputs": [],
   "source": [
    "test_img = []\n",
    "for img in image_summaries:\n",
    "    if img != 'No es una receta':\n",
    "        continue\n",
    "    test_img.append(img)\n",
    "len(test_img)"
   ]
  },
  {
   "cell_type": "code",
   "execution_count": null,
   "metadata": {},
   "outputs": [],
   "source": [
    "documents = []\n",
    "retrieve_contents = []\n",
    "\n",
    "for e, s in zip(text_elements, text_summaries):\n",
    "    i = str(uuid.uuid4())\n",
    "    doc = Document(\n",
    "        page_content = s,\n",
    "        metadata = {\n",
    "            'id': i,\n",
    "            'type': 'text',\n",
    "            'original_content': e\n",
    "        }\n",
    "    )\n",
    "    retrieve_contents.append((i, e))\n",
    "    documents.append(doc)\n",
    "\n",
    "for e, s in zip(table_elements, table_summaries):\n",
    "    doc = Document(\n",
    "        page_content = s,\n",
    "        metadata = {\n",
    "            'id': i,\n",
    "            'type': 'table',\n",
    "            'original_content': e\n",
    "        }\n",
    "    )\n",
    "    retrieve_contents.append((i, e))\n",
    "    documents.append(doc)\n",
    "\n",
    "for e, s in zip(image_elements, image_summaries):\n",
    "    if s == 'No es una receta':\n",
    "        continue\n",
    "    doc = Document(\n",
    "        page_content = s,\n",
    "        metadata = {\n",
    "            'id': i,\n",
    "            'type': 'image',\n",
    "            'original_content': e\n",
    "        }\n",
    "    )\n",
    "    retrieve_contents.append((i, s))\n",
    "    documents.append(doc)\n",
    "\n",
    "vectorstore = FAISS.from_documents(documents=documents, embedding=OpenCLIPEmbeddings())"
   ]
  },
  {
   "cell_type": "code",
   "execution_count": null,
   "metadata": {},
   "outputs": [],
   "source": [
    "vectorstore.save_local(os.path.join(SAVE_PATH, \"vectordb/faiss_index\"))\n"
   ]
  }
 ],
 "metadata": {
  "kernelspec": {
   "display_name": "imagebind",
   "language": "python",
   "name": "python3"
  },
  "language_info": {
   "codemirror_mode": {
    "name": "ipython",
    "version": 3
   },
   "file_extension": ".py",
   "mimetype": "text/x-python",
   "name": "python",
   "nbconvert_exporter": "python",
   "pygments_lexer": "ipython3",
   "version": "3.8.19"
  }
 },
 "nbformat": 4,
 "nbformat_minor": 2
}
